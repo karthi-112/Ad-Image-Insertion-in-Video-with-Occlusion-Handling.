{
 "cells": [
  {
   "cell_type": "code",
   "execution_count": 1,
   "id": "54d079f7",
   "metadata": {},
   "outputs": [],
   "source": [
    "import cv2\n",
    "import torch\n",
    "import numpy as np"
   ]
  },
  {
   "cell_type": "code",
   "execution_count": 2,
   "id": "e66a0b83",
   "metadata": {},
   "outputs": [],
   "source": [
    "# Load the input video and advertisement image\n",
    "video_cap = cv2.VideoCapture('C:\\\\Users\\\\HP\\\\Downloads\\\\Assignment_AIML\\\\Assignment_AIML\\\\input video.mp4')\n",
    "ad_image = cv2.imread('C:\\\\Users\\\\HP\\\\Downloads\\\\Assignment_AIML\\\\Assignment_AIML\\\\AI_ML Assignment_ Anantadi.pdf')"
   ]
  },
  {
   "cell_type": "code",
   "execution_count": null,
   "id": "22b36621",
   "metadata": {},
   "outputs": [],
   "source": [
    "# Define the object detection model (e.g., YOLOv3)\n",
    "model = torch.hub.load('ultralytics/yolov3', 'yolov3')"
   ]
  },
  {
   "cell_type": "code",
   "execution_count": null,
   "id": "dc93013d",
   "metadata": {},
   "outputs": [],
   "source": [
    "# Define the tracking algorithm (e.g., Kalman filter)\n",
    "tracker = cv2.KalmanFilter(4, 2, 0)"
   ]
  },
  {
   "cell_type": "code",
   "execution_count": null,
   "id": "cdd98b87",
   "metadata": {},
   "outputs": [],
   "source": [
    "while True:\n",
    "    ret, frame = video_cap.read()\n",
    "    if not ret:\n",
    "        break"
   ]
  },
  {
   "cell_type": "code",
   "execution_count": null,
   "id": "4276ad2d",
   "metadata": {},
   "outputs": [],
   "source": [
    "# Detect objects in the frame using YOLOv3\n",
    "    results = model(frame)\n",
    "    detections = results.xyxy[0].cpu().numpy()"
   ]
  },
  {
   "cell_type": "code",
   "execution_count": null,
   "id": "2c41cb30",
   "metadata": {},
   "outputs": [],
   "source": [
    "# Track the detected objects using the Kalman filter\n",
    "    for detection in detections:\n",
    "        x, y, w, h = detection\n",
    "        tracker.predict()\n",
    "        tracker.correct(np.array([[x], [y]]))"
   ]
  },
  {
   "cell_type": "code",
   "execution_count": null,
   "id": "e4d1802d",
   "metadata": {},
   "outputs": [],
   "source": [
    "# Insert the advertisement image into the frame, handling occlusions\n",
    "    for detection in detections:\n",
    "        x, y, w, h = detection\n",
    "        if tracker.statePost[0] > x and tracker.statePost[0] < x + w and tracker.statePost[1] > y and tracker.statePost[1] < y + h:\n",
    "            # Occlusion detected, adjust the advertisement image position or size\n",
    "            ad_image_resized = cv2.resize(ad_image, (int(w * 0.8), int(h * 0.8)))\n",
    "            frame[y:y + int(h * 0.8), x:x + int(w * 0.8)] = ad_image_resized\n",
    "        else:\n",
    "            # No occlusion, insert the advertisement image at the default position\n",
    "            frame[y:y + ad_image.shape[0], x:x + ad_image.shape[1]] = ad_image"
   ]
  },
  {
   "cell_type": "code",
   "execution_count": null,
   "id": "e45b58c7",
   "metadata": {},
   "outputs": [],
   "source": [
    "# Display the output frame\n",
    "    cv2.imshow('Output', frame)\n",
    "    if cv2.waitKey(1) & 0xFF == ord('q'):\n",
    "        break"
   ]
  },
  {
   "cell_type": "code",
   "execution_count": null,
   "id": "d8ae2bbc",
   "metadata": {},
   "outputs": [],
   "source": [
    "video_cap.release()\n",
    "cv2.destroyAllWindows()"
   ]
  }
 ],
 "metadata": {
  "kernelspec": {
   "display_name": "Python 3 (ipykernel)",
   "language": "python",
   "name": "python3"
  },
  "language_info": {
   "codemirror_mode": {
    "name": "ipython",
    "version": 3
   },
   "file_extension": ".py",
   "mimetype": "text/x-python",
   "name": "python",
   "nbconvert_exporter": "python",
   "pygments_lexer": "ipython3",
   "version": "3.10.9"
  }
 },
 "nbformat": 4,
 "nbformat_minor": 5
}
